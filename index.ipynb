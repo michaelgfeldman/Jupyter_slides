{
 "cells": [
  {
   "cell_type": "markdown",
   "metadata": {
    "slideshow": {
     "slide_type": "slide"
    }
   },
   "source": [
    "# Smart DRUGan"
   ]
  },
  {
   "cell_type": "markdown",
   "metadata": {
    "slideshow": {
     "slide_type": "slide"
    }
   },
   "source": [
    "# Task\n",
    "Extent DRUGan in order to be able to provide a personalized Data Science\n"
   ]
  },
  {
   "cell_type": "markdown",
   "metadata": {
    "slideshow": {
     "slide_type": "slide"
    }
   },
   "source": [
    "# Roadmap\n",
    "at least what we've done\n",
    "- Research on existing solutions and resources \n",
    "- Define a source list of information\n",
    "- Define the structure the source should be mapped to\n",
    "- Define an NLP architecture for data processing\n",
    "- Create data scrappers\n",
    "- Join modules\n",
    "- Create interaction module with slack interface"
   ]
  },
  {
   "cell_type": "markdown",
   "metadata": {
    "slideshow": {
     "slide_type": "subslide"
    }
   },
   "source": [
    "# Source list\n",
    "- https://paperswithcode.com/\n",
    "- https://towardsdatascience.com/\n",
    "- https://becominghuman.ai/\n",
    "- http://www.arxiv-sanity.com/\n",
    "- https://www.analyticsvidhya.com/blog/\n",
    "- https://www.dataquest.io/blog/\n",
    "- https://www.kdnuggets.com/\n",
    "- http://blog.kaggle.com/\n",
    "- https://pythonprogramming.net/data-analysis-tutorials/\n",
    "- https://www.reddit.com/r/MachineLearning/\n",
    "- https://blog.openai.com/\n",
    "- https://machinelearningmastery.com/blog/\n",
    "- http://blog.yhat.com/\n",
    "- http://www.gitxiv.com/\n",
    "- https://deepmind.com/research/\n",
    "- https://code.fb.com/\n",
    "- http://www.fast.ai/\n",
    "- https://www.deeplearningweekly.com/\n",
    "- https://eng.uber.com/\n",
    "- http://news.mit.edu/topic/machine-learning"
   ]
  },
  {
   "cell_type": "markdown",
   "metadata": {
    "slideshow": {
     "slide_type": "subslide"
    }
   },
   "source": [
    "# Example of a mapping structure"
   ]
  },
  {
   "cell_type": "code",
   "execution_count": 5,
   "metadata": {
    "slideshow": {
     "slide_type": "subslide"
    }
   },
   "outputs": [],
   "source": [
    "ex1={\"someblog.com\":\n",
    "    {   \n",
    "        \"source\":7,\n",
    "        \"title\":\"New tyoe of robotics\", \n",
    "        \"time_to_read\":\"approximately 40 minutes\",\n",
    "        \"short_summary\":\"Some lines\",\n",
    "        \"our_tags\": [\"ML\", \"NLP\"],\n",
    "        \"given_by_blog_tags\":[\"Disussion\",\"Project\",\"Reserch\"],\n",
    "        \"date\": \"19 Sep 2018\",\n",
    "        \"author_name\": \"name\", \n",
    "        \"number_of_comments\":34, \n",
    "        \"preview_picture\":\"Here will be a png\" ,\n",
    "        \"github_link\":\"https://github.com/\",\n",
    "        \"arxiv_link\":\"https://arxiv.org/abs/1807.02033v2\",\n",
    "        \"reddit_link\":\"https://www.reddit.com/r/MachineLearning/comments/\",\n",
    "        \"amount_of_facebooks\":450,\n",
    "        \"amount_of_twits\":450\n",
    "    }}"
   ]
  },
  {
   "cell_type": "code",
   "execution_count": 6,
   "metadata": {
    "slideshow": {
     "slide_type": "subslide"
    }
   },
   "outputs": [],
   "source": [
    "ex2={\"arxiv\" : {\n",
    "        \"id\" : \"http://arxiv.org/abs/1806.01660v4\",\n",
    "        \"date\" : \"19 Sep 2018\",\n",
    "        \"category\" :  \"cs.[CV|CL|LG|AI|NE]/stat.ML\",\n",
    "        \"category1\" : [\"nlp\", \"CV\"],\n",
    "        \"title\" : \"Mask R-CNN\",\n",
    "        \"authors\" : [{\"name\" : \"Andrew Ng\", \"id\" : 123}],\n",
    "        \"trackbacks\" : \"www.kaggle.com\",\n",
    "        \"arxiv_summary\" : \"We present an auxiliary task to Mask R-CNN, an instance segmentation network, which......\",\n",
    "        \"our_summary\":\"We present an auxiliary task to Mask R-CNN, an instance segmentation network, which......\",\n",
    "        \"pages_count\" : 50,\n",
    "        \"Bibliographic\":{\"data\":{ \n",
    "            \"references\" : \"another arxiv article\",\n",
    "            \"citations\" : \"direct quote\",\n",
    "            \"similar_abstract\" : [],\n",
    "            \"also_read\" : []}\n",
    "        },\n",
    "        \"num_of_submission\" : 4,\n",
    "        \"Comments\" : {\n",
    "            \"availability\" : \"yes\",\n",
    "            \"text\" : \"arXiv admin note: text overlap with\" ,\n",
    "            \"link\" : \"https://arxiv.org/abs/1802.05155\"\n",
    "        },\n",
    "        \"figures\" : {                     \n",
    "            \"caption_boundary\": {\n",
    "                \"x1\": 152.66566806369357,\n",
    "                \"x2\": 693.7513987223307,\n",
    "                \"y1\": 273.42425452338324,\n",
    "                \"y2\": 284.6669514973958\n",
    "            },\n",
    "            \"caption_text\": \"Table I. Objects carrying charges m\\u2032\\u00b5 and n\\u00b5 in each theory related by dualities.\",\n",
    "            \"dpi\": 100,\n",
    "            \"figure_boundary\": {\n",
    "                \"x1\": 262.0,\n",
    "                \"x2\": 584.0,\n",
    "                \"y1\": 285.0,\n",
    "                \"y2\": 433.0\n",
    "            },\n",
    "            \"figure_type\": \"Table\",\n",
    "            \"name\": \"name\",\n",
    "            \"page\": 2\n",
    "        },\n",
    "        \"video_summary\" : {\n",
    "            \"videos\" :\"https://www.youtube.com/user/keeroyz/videos\",\n",
    "            \"text\" : \"http://www.shortscience.org/?s=cs\"\n",
    "        },\n",
    "\n",
    "        \"pdf\" : {\n",
    "            \"id\" : \"https://arxiv.org/pdf/1806.01660v4\",\n",
    "            \"results_сonclusion\" : \"\",\n",
    "            \"bold_item\" : \"\",\n",
    "            \"pages\" : 13\n",
    "\n",
    "        }\n",
    "    }}"
   ]
  },
  {
   "cell_type": "markdown",
   "metadata": {
    "slideshow": {
     "slide_type": "subslide"
    }
   },
   "source": [
    "# Defying NLP architecture in our case consists of:\n",
    "- Making a good enough tagger\n",
    "- Realizing an article summarization and a time estimation"
   ]
  },
  {
   "cell_type": "markdown",
   "metadata": {
    "slideshow": {
     "slide_type": "slide"
    }
   },
   "source": [
    "# Tagger\n",
    "![](img/maxresdefault.jpg)\n"
   ]
  },
  {
   "cell_type": "markdown",
   "metadata": {
    "slideshow": {
     "slide_type": "subslide"
    }
   },
   "source": [
    "# What do we have in tagger \n",
    "- A list of all DS terms\n",
    "- Automatic Keyphrase Extraction technology\n",
    "- Function that checks whether found keyphrase is a DS term"
   ]
  },
  {
   "cell_type": "markdown",
   "metadata": {
    "slideshow": {
     "slide_type": "subslide"
    }
   },
   "source": [
    "# A list of all DS terms\n",
    "At the beginning it wasn't a list but a 2350 lines dictionary with an hierarchical structure  \n",
    "Fragment of that dict:"
   ]
  },
  {
   "cell_type": "code",
   "execution_count": 2,
   "metadata": {
    "slideshow": {
     "slide_type": "subslide"
    }
   },
   "outputs": [],
   "source": [
    " dict_ex={\n",
    "     \"structures used in natural language processing\":{\n",
    "     \"anaphora\":{},\n",
    "     \"context-free language\":{},\n",
    "     \"controlled natural language \":{},\n",
    "     \"corpus\":{\n",
    "         \"text corpus\":{},\n",
    "         \"speech corpus\":{}},\n",
    "     \"grammar\":{\n",
    "         \"context-free grammar (cfg)\":{},\n",
    "         \"constraint grammar (cg)\":{},\n",
    "         \"definite clause grammar (dcg)\":{},\n",
    "         \"functional unification grammar (fug)\":{},\n",
    "         \"generalized phrase structure grammar (gpsg)\":{},\n",
    "         \"head-driven phrase structure grammar (hpsg)\":{},\n",
    "         \"lexical functional grammar (lfg)\":{},\n",
    "         \"probabilistic context-free grammar (pcfg)\":{},\n",
    "         \"stochastic context-free grammar (scfg)\":{},\n",
    "         \"systemic functional grammar (sfg)\":{},\n",
    "         \"tree-adjoining grammar (tag)\":{}},\n",
    "     \"natural language\":{},\n",
    "     \"n-gram \":{\n",
    "         \"bigram\":{},\n",
    "         \"trigram\":{}},\n",
    "     \"ontology\":{\n",
    "         \"taxonomy\":{\n",
    "             \"hyponymy and hypernymy\":{},\n",
    "             \"taxonomy for search engines\":{}}},\n",
    "     \"textual entailment\":{},\n",
    "     \"triphone\":{}}\n",
    " }"
   ]
  },
  {
   "cell_type": "markdown",
   "metadata": {
    "slideshow": {
     "slide_type": "subslide"
    }
   },
   "source": [
    "# Automatic Keyphrase Extraction(terminology extraction)\n",
    "- It seems like a very hard task and it is true but thankfully while trying to get it done we found a ready to use library named textacy.\n",
    "- However, that wasn't the end and we faced a new problem of chosen a right extraction method (from 8 existing)."
   ]
  },
  {
   "cell_type": "markdown",
   "metadata": {
    "slideshow": {
     "slide_type": "subslide"
    }
   },
   "source": [
    "# Finishing up our tagger\n",
    "- Mesuaring hamming a distance between found keyphrase and terms from our list\n",
    "- If found close enough term from list, we declare it as a TAG(close enough = preset threshold)\n",
    "- Than we again mesuare a hamming distance but now between our tags to get rid of simillar ones"
   ]
  },
  {
   "cell_type": "markdown",
   "metadata": {
    "slideshow": {
     "slide_type": "slide"
    }
   },
   "source": [
    "# Summarization and a time estimation\n",
    "![](img/clock.jpg)"
   ]
  },
  {
   "cell_type": "markdown",
   "metadata": {
    "slideshow": {
     "slide_type": "subslide"
    }
   },
   "source": [
    "# Time estimation and readability\n",
    "- Time estimation counted through simple medium formula where we just divide number of words by average WPM and every picture adds 12 seconds\n",
    "- Readability counted through more complex Flesch reading ease formula \n",
    "![](img/Flesch-Reading-Ease-2.jpg)"
   ]
  },
  {
   "cell_type": "markdown",
   "metadata": {
    "slideshow": {
     "slide_type": "subslide"
    }
   },
   "source": [
    "# Summarization\n",
    "We've used a library called sumy which has a whole bunch of summarizers and challenge was to choose the right one.  \n",
    "We've ended up choosing Luhn."
   ]
  },
  {
   "cell_type": "markdown",
   "metadata": {
    "slideshow": {
     "slide_type": "slide"
    }
   },
   "source": [
    "# Data Engineering"
   ]
  },
  {
   "cell_type": "markdown",
   "metadata": {
    "slideshow": {
     "slide_type": "subslide"
    }
   },
   "source": [
    "<img src=\"img/iOS.jpg\" width=\"700\" height=\"700\" />"
   ]
  },
  {
   "cell_type": "markdown",
   "metadata": {
    "slideshow": {
     "slide_type": "subslide"
    }
   },
   "source": [
    "<img src=\"img/IOS2.jpg\" width=\"800\" height=\"800\" />"
   ]
  },
  {
   "cell_type": "markdown",
   "metadata": {
    "slideshow": {
     "slide_type": "slide"
    }
   },
   "source": [
    "# Joining modules\n",
    "- Combining all parts of the script\n",
    "- Сonnecting script to the DB"
   ]
  },
  {
   "cell_type": "markdown",
   "metadata": {
    "slideshow": {
     "slide_type": "slide"
    }
   },
   "source": [
    "# Final example\n",
    "{\"source\": \"FastAI\", \"title\": \"Andrew Ng says Deep learning is the \\\"New Electricity\\\"; what this means to your organization fast.ai\", \"timeToRead\": 5, \"Readability\":\"easy to read article\",\"summary\": \"Deep learning models provide deeper insight and greater accuracy, make existing products better, improve operations (e.g. Google used deep learning to reduce data center cooling requirements by 40%!)\\nDeep learning is particularly effective at handling noise in data, and in handling unstructured data - so if your data infrastructure is not in a good state, it is even more important that you invest in deep learning.\\nLooking externally for deep learning experts, rather than developing deep learning expertise within your existing staff, means that you will be creating a gap between your domain experts and your new data experts.\\nThe best approach, of course, is to do both: hire existing deep learning experts if you can, whilst developing skills of your own team at the same time.\\n\", \"tags\": [\"ai-in-society\", \"meta learning\", \"deep learning\", \"neural network\"], \"date\": \"2016-10-11T00:00:00\", \"picture\": null, \"githubLink\": null, \"arxivLink\": null}"
   ]
  },
  {
   "cell_type": "markdown",
   "metadata": {
    "slideshow": {
     "slide_type": "slide"
    }
   },
   "source": [
    "# Thanks for attention!\n"
   ]
  }
 ],
 "metadata": {
  "celltoolbar": "Slideshow",
  "kernelspec": {
   "display_name": "Python 3",
   "language": "python",
   "name": "python3"
  },
  "language_info": {
   "codemirror_mode": {
    "name": "ipython",
    "version": 3
   },
   "file_extension": ".py",
   "mimetype": "text/x-python",
   "name": "python",
   "nbconvert_exporter": "python",
   "pygments_lexer": "ipython3",
   "version": "3.6.5"
  }
 },
 "nbformat": 4,
 "nbformat_minor": 2
}
