{
 "cells": [
  {
   "cell_type": "markdown",
   "metadata": {
    "slideshow": {
     "slide_type": "slide"
    }
   },
   "source": [
    "# Smart DRUGan\n",
    "(not exactly smart more like little bit less stupid)"
   ]
  },
  {
   "cell_type": "markdown",
   "metadata": {
    "slideshow": {
     "slide_type": "slide"
    }
   },
   "source": [
    "# Task\n",
    "Extent DRUGan in order to be able to provide a personalized Data Science\n"
   ]
  },
  {
   "cell_type": "markdown",
   "metadata": {
    "slideshow": {
     "slide_type": "subslide"
    }
   },
   "source": [
    "# Roadmap\n",
    "at least what we've done\n",
    "- Research on existing solutions and resources (Recommended Readings & Sources)\n",
    "- Define a source list of information\n",
    "- Define an NLP architecture for data processing\n",
    "- Create data scrappers\n",
    "- Join modules\n",
    "- Create interaction module with slack interface"
   ]
  },
  {
   "cell_type": "markdown",
   "metadata": {
    "slideshow": {
     "slide_type": "subslide"
    }
   },
   "source": [
    "# Defying NLP architecture in our case consists of:\n",
    "- Making a good enough tagger\n",
    "- Realizing an article summarization and a time estimation"
   ]
  },
  {
   "attachments": {},
   "cell_type": "markdown",
   "metadata": {
    "slideshow": {
     "slide_type": "slide"
    }
   },
   "source": [
    "# Tagger\n",
    "![](img/maxresdefault.jpg)\n"
   ]
  },
  {
   "cell_type": "markdown",
   "metadata": {
    "slideshow": {
     "slide_type": "subslide"
    }
   },
   "source": [
    "# What do we have in tagger \n",
    "- A list of all DS terms\n",
    "- Automatic Keyphrase Extraction technology\n",
    "- Function that checks whether found keyphrase is a DS term"
   ]
  },
  {
   "cell_type": "markdown",
   "metadata": {
    "slideshow": {
     "slide_type": "subslide"
    }
   },
   "source": [
    "# A list of all DS terms\n",
    "At the beginning it wasn't a list but a 2350 lines dictionary with an hierarchical structure  \n",
    "Fragment of that dict:"
   ]
  },
  {
   "cell_type": "code",
   "execution_count": 6,
   "metadata": {
    "slideshow": {
     "slide_type": "subslide"
    }
   },
   "outputs": [],
   "source": [
    "dict = {'ai_projects' :{ \n",
    "    'automated mathematician': {},\n",
    "    'allen': {},\n",
    "    'open mind common sense': {},\n",
    "    'mindpixel': {},\n",
    "    'cognitive assistant that learns and organizes': {},\n",
    "    'blue brain project': {},\n",
    "    'google deepmind': {},\n",
    "    'human brain project': {},\n",
    "    'ibm watson group': {}\n",
    "}}"
   ]
  },
  {
   "cell_type": "markdown",
   "metadata": {
    "slideshow": {
     "slide_type": "subslide"
    }
   },
   "source": [
    "# Automatic Keyphrase Extraction(terminology extraction)\n",
    "- It seems like a very hard task and it is true but thankfully while trying to get it done we found a ready to use library named textacy.\n",
    "- However, that wasn't the end and we faced a new problem of chosen a right extraction method (from 8 existing)."
   ]
  },
  {
   "cell_type": "markdown",
   "metadata": {
    "slideshow": {
     "slide_type": "subslide"
    }
   },
   "source": [
    "# Finishing up our tagger\n",
    "(никита должен сказать как мы закончили с теггером)"
   ]
  }
 ],
 "metadata": {
  "celltoolbar": "Slideshow",
  "kernelspec": {
   "display_name": "Python 3",
   "language": "python",
   "name": "python3"
  },
  "language_info": {
   "codemirror_mode": {
    "name": "ipython",
    "version": 3
   },
   "file_extension": ".py",
   "mimetype": "text/x-python",
   "name": "python",
   "nbconvert_exporter": "python",
   "pygments_lexer": "ipython3",
   "version": "3.6.5"
  }
 },
 "nbformat": 4,
 "nbformat_minor": 2
}
